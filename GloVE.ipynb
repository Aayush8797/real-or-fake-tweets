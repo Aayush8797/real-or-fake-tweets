{
 "cells": [
  {
   "cell_type": "code",
   "execution_count": 1,
   "metadata": {},
   "outputs": [
    {
     "name": "stderr",
     "output_type": "stream",
     "text": [
      "Using TensorFlow backend.\n"
     ]
    }
   ],
   "source": [
    "import pandas as pd\n",
    "import numpy as np\n",
    "import warnings\n",
    "warnings.filterwarnings(action='ignore')\n",
    "from nltk.corpus import stopwords\n",
    "stopwords = set(stopwords.words('english'))\n",
    "import re\n",
    "import string\n",
    "from gensim.models import KeyedVectors\n",
    "from gensim.scripts.glove2word2vec import glove2word2vec\n",
    "from tensorflow.keras.preprocessing.text import Tokenizer\n",
    "from tensorflow.keras.preprocessing.sequence import pad_sequences\n",
    "from keras.layers import Input,LSTM,Embedding,Dense,Dropout,Activation\n",
    "from keras.models import Model,Sequential\n",
    "import matplotlib.pyplot as plt\n",
    "%matplotlib inline"
   ]
  },
  {
   "cell_type": "markdown",
   "metadata": {},
   "source": [
    "### Data"
   ]
  },
  {
   "cell_type": "code",
   "execution_count": 2,
   "metadata": {},
   "outputs": [],
   "source": [
    "train = pd.read_csv(r\"C:\\Users\\aayus\\Desktop\\Kaggle\\real-or-fake-tweets\\train.csv\")\n",
    "test = pd.read_csv(r\"C:\\Users\\aayus\\Desktop\\Kaggle\\real-or-fake-tweets\\test.csv\")\n",
    "sample_submission = pd.read_csv(r\"C:\\Users\\aayus\\Desktop\\Kaggle\\real-or-fake-tweets\\sample_submission.csv\")"
   ]
  },
  {
   "cell_type": "code",
   "execution_count": 3,
   "metadata": {},
   "outputs": [],
   "source": [
    "train = train.fillna(\"\")"
   ]
  },
  {
   "cell_type": "code",
   "execution_count": 4,
   "metadata": {},
   "outputs": [],
   "source": [
    "train['text2clean'] = train[['keyword','location','text']].apply(lambda x: ' '.join(x), axis=1)"
   ]
  },
  {
   "cell_type": "code",
   "execution_count": 5,
   "metadata": {},
   "outputs": [],
   "source": [
    "test = test.fillna('')"
   ]
  },
  {
   "cell_type": "code",
   "execution_count": 6,
   "metadata": {},
   "outputs": [],
   "source": [
    "test['text2clean'] = test[['keyword','location','text']].apply(lambda x: ' '.join(x), axis=1)"
   ]
  },
  {
   "cell_type": "markdown",
   "metadata": {},
   "source": [
    "#### Cleaning text"
   ]
  },
  {
   "cell_type": "code",
   "execution_count": 7,
   "metadata": {},
   "outputs": [],
   "source": [
    "stopwords = stopwords.union(set(['http','https','com','co','this','like','amp','via','#']))"
   ]
  },
  {
   "cell_type": "code",
   "execution_count": 8,
   "metadata": {},
   "outputs": [],
   "source": [
    "def cleaning_text(text):\n",
    "    text = text.lower()\n",
    "    text = re.sub(r\"\\'s\", \" \", text)\n",
    "    text = re.sub(r\"\\'ve\", \" have \", text)\n",
    "    text = re.sub(r\"can't\", \"cannot \", text)\n",
    "    text = re.sub(r\"n't\", \" not \", text)\n",
    "    text = re.sub(r\"i'm\", \"i am \", text)\n",
    "    text = re.sub(r\"\\'re\", \" are \", text)\n",
    "    text = re.sub(r\"\\'d\", \" would \", text)\n",
    "    text = re.sub(r\"\\'ll\", \" will \", text)\n",
    "    text = re.sub(r\",\", \" \", text)\n",
    "    text = re.sub(r\"\\.\", \" \", text)\n",
    "    text = re.sub(r\"!\", \" \", text)\n",
    "    text = re.sub(r\"\\/\", \" \", text)\n",
    "    text = re.sub(r\"\\^\", \" \", text)\n",
    "    text = re.sub(r\"\\+\", \" \", text)\n",
    "    text = re.sub(r\"\\-\", \" \", text)\n",
    "    text = re.sub(r\"\\=\", \" \", text)\n",
    "    text = re.sub(r\"'\", \" \", text)\n",
    "    text = re.sub(r\":\", \" \", text)\n",
    "    text = re.sub('\\[.*?\\]',' ',text)\n",
    "    text = re.sub('(%s)' % re.escape(string.punctuation),'',text)\n",
    "    text = re.sub('\\w*\\d\\w*',' ',text)\n",
    "    text = re.sub('#',' ',text)\n",
    "    text = re.sub('@',' ',text)\n",
    "    text = re.sub('\\?',' ',text)\n",
    "    text = re.sub('\\_',' ',text)\n",
    "    text = re.sub(r\"e - mail\", \"email\", text)\n",
    "    text = re.sub(r\"j k\", \"jk\", text)\n",
    "    x = text.split()\n",
    "    text = [i for i in x if i not in stopwords]\n",
    "    text = \" \".join(text)\n",
    "    text = re.sub('thi','',text)\n",
    "    text = re.sub('co','',text)\n",
    "    return text"
   ]
  },
  {
   "cell_type": "code",
   "execution_count": 9,
   "metadata": {},
   "outputs": [],
   "source": [
    "train['cleantext'] = train.text2clean.apply(lambda x: cleaning_text(x))"
   ]
  },
  {
   "cell_type": "code",
   "execution_count": 10,
   "metadata": {},
   "outputs": [],
   "source": [
    "test['cleantext'] = test.text2clean.apply(lambda x: cleaning_text(x))"
   ]
  },
  {
   "cell_type": "markdown",
   "metadata": {},
   "source": [
    "### GloVE"
   ]
  },
  {
   "cell_type": "code",
   "execution_count": 11,
   "metadata": {},
   "outputs": [],
   "source": [
    "glove_file = \"glove.twitter.27B.200d.txt\""
   ]
  },
  {
   "cell_type": "code",
   "execution_count": 12,
   "metadata": {},
   "outputs": [],
   "source": [
    "word2vec_file = \"glove2w2v.word2vec\""
   ]
  },
  {
   "cell_type": "code",
   "execution_count": 13,
   "metadata": {},
   "outputs": [
    {
     "data": {
      "text/plain": [
       "(1193514, 200)"
      ]
     },
     "execution_count": 13,
     "metadata": {},
     "output_type": "execute_result"
    }
   ],
   "source": [
    "glove2word2vec(glove_input_file=glove_file,word2vec_output_file=word2vec_file)"
   ]
  },
  {
   "cell_type": "code",
   "execution_count": 14,
   "metadata": {},
   "outputs": [],
   "source": [
    "w2v_model = KeyedVectors.load_word2vec_format(word2vec_file,binary=False)"
   ]
  },
  {
   "cell_type": "code",
   "execution_count": 15,
   "metadata": {},
   "outputs": [
    {
     "data": {
      "text/plain": [
       "1193514"
      ]
     },
     "execution_count": 15,
     "metadata": {},
     "output_type": "execute_result"
    }
   ],
   "source": [
    "words = list(w2v_model.wv.vocab)\n",
    "len(words)"
   ]
  },
  {
   "cell_type": "code",
   "execution_count": 16,
   "metadata": {},
   "outputs": [
    {
     "data": {
      "text/plain": [
       "[('burning', 0.6376731991767883),\n",
       " ('near', 0.6279622912406921),\n",
       " ('the', 0.6254713535308838),\n",
       " ('fires', 0.6131499409675598),\n",
       " ('dead', 0.6122781038284302),\n",
       " ('burn', 0.60842365026474),\n",
       " ('after', 0.5980007648468018),\n",
       " ('there', 0.5952222943305969),\n",
       " ('now', 0.5946906208992004),\n",
       " ('out', 0.5923745632171631)]"
      ]
     },
     "execution_count": 16,
     "metadata": {},
     "output_type": "execute_result"
    }
   ],
   "source": [
    "w2v_model.wv.most_similar(cleaning_text(\"fire\"))"
   ]
  },
  {
   "cell_type": "code",
   "execution_count": 17,
   "metadata": {},
   "outputs": [
    {
     "data": {
      "text/plain": [
       "(1193514, 200)"
      ]
     },
     "execution_count": 17,
     "metadata": {},
     "output_type": "execute_result"
    }
   ],
   "source": [
    "w2v_model.wv.syn0.shape"
   ]
  },
  {
   "cell_type": "code",
   "execution_count": 18,
   "metadata": {},
   "outputs": [
    {
     "data": {
      "text/plain": [
       "array([[ 3.1553e-01,  5.3765e-01,  1.0177e-01, ..., -4.5664e-01,\n",
       "        -4.6540e-01,  5.2066e-01],\n",
       "       [ 3.5132e-01,  5.6084e-04, -2.1488e-01, ...,  3.6684e-02,\n",
       "        -3.7206e-02,  8.5384e-01],\n",
       "       [ 8.0767e-01,  4.9786e-01,  8.2696e-02, ..., -7.3302e-02,\n",
       "        -4.7785e-01,  6.7059e-01],\n",
       "       ...,\n",
       "       [ 4.6298e-01,  1.0477e-01,  2.3461e-01, ..., -4.2007e-01,\n",
       "        -3.2021e-01, -5.3523e-01],\n",
       "       [ 5.9501e-01, -2.1580e-01,  2.9049e-01, ...,  2.2362e-01,\n",
       "         1.2880e-01, -3.8757e-02],\n",
       "       [-5.9487e-01, -1.9176e-01,  3.7470e-01, ..., -1.4474e-01,\n",
       "        -1.9884e-01, -9.2338e-01]], dtype=float32)"
      ]
     },
     "execution_count": 18,
     "metadata": {},
     "output_type": "execute_result"
    }
   ],
   "source": [
    "w2v_model.wv.syn0"
   ]
  },
  {
   "cell_type": "markdown",
   "metadata": {},
   "source": [
    "### Model Specification"
   ]
  },
  {
   "cell_type": "code",
   "execution_count": 19,
   "metadata": {},
   "outputs": [],
   "source": [
    "glove_weight = w2v_model.wv.syn0"
   ]
  },
  {
   "cell_type": "code",
   "execution_count": 20,
   "metadata": {},
   "outputs": [],
   "source": [
    "vocab_size = w2v_model.wv.syn0.shape[0]"
   ]
  },
  {
   "cell_type": "code",
   "execution_count": 21,
   "metadata": {},
   "outputs": [],
   "source": [
    "embedding_dim = 200"
   ]
  },
  {
   "cell_type": "code",
   "execution_count": 22,
   "metadata": {},
   "outputs": [],
   "source": [
    "Embedding_layer = Embedding(input_dim=vocab_size,output_dim=embedding_dim,weights=[glove_weight])"
   ]
  },
  {
   "cell_type": "code",
   "execution_count": 23,
   "metadata": {},
   "outputs": [],
   "source": [
    "model = Sequential()"
   ]
  },
  {
   "cell_type": "code",
   "execution_count": 24,
   "metadata": {},
   "outputs": [],
   "source": [
    "model.add(Embedding_layer)"
   ]
  },
  {
   "cell_type": "code",
   "execution_count": 25,
   "metadata": {},
   "outputs": [],
   "source": [
    "model.add(LSTM(embedding_dim,activation='relu'))"
   ]
  },
  {
   "cell_type": "code",
   "execution_count": 26,
   "metadata": {},
   "outputs": [],
   "source": [
    "model.add(Dense(1,activation='sigmoid'))"
   ]
  },
  {
   "cell_type": "code",
   "execution_count": 27,
   "metadata": {},
   "outputs": [],
   "source": [
    "model.compile(optimizer='adam',loss='mse',metrics=['accuracy'])"
   ]
  },
  {
   "cell_type": "code",
   "execution_count": 28,
   "metadata": {},
   "outputs": [
    {
     "name": "stdout",
     "output_type": "stream",
     "text": [
      "Model: \"sequential_1\"\n",
      "_________________________________________________________________\n",
      "Layer (type)                 Output Shape              Param #   \n",
      "=================================================================\n",
      "embedding_1 (Embedding)      (None, None, 200)         238702800 \n",
      "_________________________________________________________________\n",
      "lstm_1 (LSTM)                (None, 200)               320800    \n",
      "_________________________________________________________________\n",
      "dense_1 (Dense)              (None, 1)                 201       \n",
      "=================================================================\n",
      "Total params: 239,023,801\n",
      "Trainable params: 239,023,801\n",
      "Non-trainable params: 0\n",
      "_________________________________________________________________\n"
     ]
    }
   ],
   "source": [
    "model.summary()"
   ]
  },
  {
   "cell_type": "markdown",
   "metadata": {},
   "source": [
    "### Training"
   ]
  },
  {
   "cell_type": "code",
   "execution_count": 29,
   "metadata": {},
   "outputs": [],
   "source": [
    "tokenizer = Tokenizer(num_words=vocab_size)\n",
    "tokenizer.fit_on_texts(train.cleantext)\n",
    "seq = tokenizer.texts_to_sequences(train.cleantext)\n",
    "data = pad_sequences(sequences=seq)"
   ]
  },
  {
   "cell_type": "code",
   "execution_count": 30,
   "metadata": {
    "scrolled": false
   },
   "outputs": [
    {
     "name": "stdout",
     "output_type": "stream",
     "text": [
      "Train on 6090 samples, validate on 1523 samples\n",
      "Epoch 1/50\n",
      "6090/6090 [==============================] - 1083s 178ms/step - loss: 0.1995 - accuracy: 0.6874 - val_loss: 0.1916 - val_accuracy: 0.7131\n",
      "Epoch 2/50\n",
      "6090/6090 [==============================] - 897s 147ms/step - loss: 0.1143 - accuracy: 0.8488 - val_loss: 0.1808 - val_accuracy: 0.7400\n",
      "Epoch 3/50\n",
      "6090/6090 [==============================] - 695s 114ms/step - loss: 0.0679 - accuracy: 0.9164 - val_loss: 0.1876 - val_accuracy: 0.7301\n",
      "Epoch 4/50\n",
      "6090/6090 [==============================] - 693s 114ms/step - loss: 0.0390 - accuracy: 0.9542 - val_loss: 0.2166 - val_accuracy: 0.7045\n",
      "Epoch 5/50\n",
      "6090/6090 [==============================] - 7753s 1s/step - loss: 0.0248 - accuracy: 0.9703 - val_loss: 0.2343 - val_accuracy: 0.7006\n",
      "Epoch 6/50\n",
      "6090/6090 [==============================] - 739s 121ms/step - loss: 0.0185 - accuracy: 0.9788 - val_loss: 0.2277 - val_accuracy: 0.7190\n",
      "Epoch 7/50\n",
      "6090/6090 [==============================] - 734s 120ms/step - loss: 0.0159 - accuracy: 0.9816 - val_loss: 0.2262 - val_accuracy: 0.7104\n",
      "Epoch 8/50\n",
      "6090/6090 [==============================] - 694s 114ms/step - loss: 0.0146 - accuracy: 0.9828 - val_loss: 0.2302 - val_accuracy: 0.7203\n",
      "Epoch 9/50\n",
      "6090/6090 [==============================] - 697s 114ms/step - loss: 0.0123 - accuracy: 0.9856 - val_loss: 0.2473 - val_accuracy: 0.6973\n",
      "Epoch 10/50\n",
      "6090/6090 [==============================] - 702s 115ms/step - loss: 0.0118 - accuracy: 0.9849 - val_loss: 0.2324 - val_accuracy: 0.7039\n",
      "Epoch 11/50\n",
      "6090/6090 [==============================] - 695s 114ms/step - loss: 0.0103 - accuracy: 0.9869 - val_loss: 0.2561 - val_accuracy: 0.6789\n",
      "Epoch 12/50\n",
      "6090/6090 [==============================] - 695s 114ms/step - loss: 0.0090 - accuracy: 0.9882 - val_loss: 0.2614 - val_accuracy: 0.6815\n",
      "Epoch 13/50\n",
      "6090/6090 [==============================] - 716s 118ms/step - loss: 0.0097 - accuracy: 0.9869 - val_loss: 0.2314 - val_accuracy: 0.7012\n",
      "Epoch 14/50\n",
      "6090/6090 [==============================] - 697s 114ms/step - loss: 0.0084 - accuracy: 0.9895 - val_loss: 0.2500 - val_accuracy: 0.6993\n",
      "Epoch 15/50\n",
      "6090/6090 [==============================] - 698s 115ms/step - loss: 0.0086 - accuracy: 0.9885 - val_loss: 0.2562 - val_accuracy: 0.7012\n",
      "Epoch 16/50\n",
      "6090/6090 [==============================] - 887s 146ms/step - loss: 0.0095 - accuracy: 0.9890 - val_loss: 0.2406 - val_accuracy: 0.7072\n",
      "Epoch 17/50\n",
      "6090/6090 [==============================] - 699s 115ms/step - loss: 0.0076 - accuracy: 0.9898 - val_loss: 0.2333 - val_accuracy: 0.7131\n",
      "Epoch 18/50\n",
      "6090/6090 [==============================] - 701s 115ms/step - loss: 0.0070 - accuracy: 0.9895 - val_loss: 0.2439 - val_accuracy: 0.7085\n",
      "Epoch 19/50\n",
      "6090/6090 [==============================] - 703s 115ms/step - loss: 0.0061 - accuracy: 0.9911 - val_loss: 0.2447 - val_accuracy: 0.7039\n",
      "Epoch 20/50\n",
      "6090/6090 [==============================] - 696s 114ms/step - loss: 0.0058 - accuracy: 0.9915 - val_loss: 0.2465 - val_accuracy: 0.7006\n",
      "Epoch 21/50\n",
      "6090/6090 [==============================] - 692s 114ms/step - loss: 0.0065 - accuracy: 0.9915 - val_loss: 0.3123 - val_accuracy: 0.6303\n",
      "Epoch 22/50\n",
      "6090/6090 [==============================] - 695s 114ms/step - loss: 0.0091 - accuracy: 0.9870 - val_loss: 0.2332 - val_accuracy: 0.7163\n",
      "Epoch 23/50\n",
      "6090/6090 [==============================] - 695s 114ms/step - loss: 0.0067 - accuracy: 0.9901 - val_loss: 0.2375 - val_accuracy: 0.7216\n",
      "Epoch 24/50\n",
      "6090/6090 [==============================] - 696s 114ms/step - loss: 0.0065 - accuracy: 0.9910 - val_loss: 0.2326 - val_accuracy: 0.7209\n",
      "Epoch 25/50\n",
      "6090/6090 [==============================] - 924s 152ms/step - loss: 0.0056 - accuracy: 0.9915 - val_loss: 0.2370 - val_accuracy: 0.7255\n",
      "Epoch 26/50\n",
      "6090/6090 [==============================] - 720s 118ms/step - loss: 0.0050 - accuracy: 0.9923 - val_loss: 0.2435 - val_accuracy: 0.7058\n",
      "Epoch 27/50\n",
      "6090/6090 [==============================] - 706s 116ms/step - loss: 0.0057 - accuracy: 0.9920 - val_loss: 0.2475 - val_accuracy: 0.7065\n",
      "Epoch 28/50\n",
      "6090/6090 [==============================] - 714s 117ms/step - loss: 0.0053 - accuracy: 0.9924 - val_loss: 0.2480 - val_accuracy: 0.6993\n",
      "Epoch 29/50\n",
      "6090/6090 [==============================] - 726s 119ms/step - loss: 0.0047 - accuracy: 0.9929 - val_loss: 0.2443 - val_accuracy: 0.7072\n",
      "Epoch 30/50\n",
      "6090/6090 [==============================] - 700s 115ms/step - loss: 0.0058 - accuracy: 0.9920 - val_loss: 0.2422 - val_accuracy: 0.6980\n",
      "Epoch 31/50\n",
      "6090/6090 [==============================] - 694s 114ms/step - loss: 0.0057 - accuracy: 0.9915 - val_loss: 0.2559 - val_accuracy: 0.7019\n",
      "Epoch 32/50\n",
      "6090/6090 [==============================] - 696s 114ms/step - loss: 0.0048 - accuracy: 0.9921 - val_loss: 0.2526 - val_accuracy: 0.7039\n",
      "Epoch 33/50\n",
      "6090/6090 [==============================] - 845s 139ms/step - loss: 0.0048 - accuracy: 0.9920 - val_loss: 0.2483 - val_accuracy: 0.7065\n",
      "Epoch 34/50\n",
      "6090/6090 [==============================] - 1984s 326ms/step - loss: 0.0046 - accuracy: 0.9920 - val_loss: 0.2576 - val_accuracy: 0.6960\n",
      "Epoch 35/50\n",
      "6090/6090 [==============================] - 695s 114ms/step - loss: 0.0046 - accuracy: 0.9924 - val_loss: 0.2617 - val_accuracy: 0.6940\n",
      "Epoch 36/50\n",
      "6090/6090 [==============================] - 691s 113ms/step - loss: 0.0046 - accuracy: 0.9931 - val_loss: 0.2720 - val_accuracy: 0.6776\n",
      "Epoch 37/50\n",
      "6090/6090 [==============================] - 712s 117ms/step - loss: 0.0049 - accuracy: 0.9920 - val_loss: 0.2612 - val_accuracy: 0.6907\n",
      "Epoch 38/50\n",
      "6090/6090 [==============================] - 700s 115ms/step - loss: 0.0046 - accuracy: 0.9926 - val_loss: 0.2624 - val_accuracy: 0.6875\n",
      "Epoch 39/50\n",
      "6090/6090 [==============================] - 706s 116ms/step - loss: 0.0043 - accuracy: 0.9926 - val_loss: 0.2714 - val_accuracy: 0.6907\n",
      "Epoch 40/50\n",
      "6090/6090 [==============================] - 712s 117ms/step - loss: 0.0043 - accuracy: 0.9926 - val_loss: 0.2656 - val_accuracy: 0.6894\n",
      "Epoch 41/50\n",
      "6090/6090 [==============================] - 745s 122ms/step - loss: 0.0042 - accuracy: 0.9924 - val_loss: 0.2688 - val_accuracy: 0.6901\n",
      "Epoch 42/50\n",
      "6090/6090 [==============================] - 839s 138ms/step - loss: 0.0057 - accuracy: 0.9913 - val_loss: 0.2540 - val_accuracy: 0.6829\n",
      "Epoch 43/50\n",
      "6090/6090 [==============================] - 706s 116ms/step - loss: 0.0061 - accuracy: 0.9906 - val_loss: 0.2730 - val_accuracy: 0.6756\n",
      "Epoch 44/50\n",
      "6090/6090 [==============================] - 708s 116ms/step - loss: 0.0051 - accuracy: 0.9926 - val_loss: 0.2659 - val_accuracy: 0.6875\n",
      "Epoch 45/50\n",
      "6090/6090 [==============================] - 698s 115ms/step - loss: 0.0046 - accuracy: 0.9931 - val_loss: 0.2590 - val_accuracy: 0.6907\n",
      "Epoch 46/50\n",
      "6090/6090 [==============================] - 673s 110ms/step - loss: 0.0041 - accuracy: 0.9934 - val_loss: 0.2672 - val_accuracy: 0.6815\n",
      "Epoch 47/50\n",
      "6090/6090 [==============================] - 692s 114ms/step - loss: 0.0040 - accuracy: 0.9933 - val_loss: 0.2647 - val_accuracy: 0.6875\n",
      "Epoch 48/50\n",
      "6090/6090 [==============================] - 684s 112ms/step - loss: 0.0040 - accuracy: 0.9933 - val_loss: 0.2644 - val_accuracy: 0.6881\n",
      "Epoch 49/50\n",
      "6090/6090 [==============================] - 703s 115ms/step - loss: 0.0040 - accuracy: 0.9929 - val_loss: 0.2640 - val_accuracy: 0.6907\n",
      "Epoch 50/50\n",
      "6090/6090 [==============================] - 696s 114ms/step - loss: 0.0040 - accuracy: 0.9936 - val_loss: 0.2645 - val_accuracy: 0.6901\n"
     ]
    }
   ],
   "source": [
    "classifier = model.fit(data,train.target,validation_split=0.2,epochs=50)"
   ]
  },
  {
   "cell_type": "code",
   "execution_count": 31,
   "metadata": {},
   "outputs": [],
   "source": [
    "import pickle\n",
    "filename=\"NN_Glove\"\n",
    "pickle.dump(classifier, open(filename, 'wb'))"
   ]
  },
  {
   "cell_type": "markdown",
   "metadata": {},
   "source": [
    "### Loss Function"
   ]
  },
  {
   "cell_type": "code",
   "execution_count": 32,
   "metadata": {},
   "outputs": [
    {
     "data": {
      "image/png": "[encoded data removed]",
      "text/plain": [
       "<Figure size 432x288 with 1 Axes>"
      ]
     },
     "metadata": {
      "needs_background": "light"
     },
     "output_type": "display_data"
    }
   ],
   "source": [
    "plt.plot(classifier.history['loss'],c=\"r\")\n",
    "plt.plot(classifier.history['val_loss'],c=\"b\")\n",
    "plt.show()"
   ]
  },
  {
   "cell_type": "code",
   "execution_count": 33,
   "metadata": {},
   "outputs": [
    {
     "data": {
      "image/png": "[encoded data removed]",
      "text/plain": [
       "<Figure size 432x288 with 1 Axes>"
      ]
     },
     "metadata": {
      "needs_background": "light"
     },
     "output_type": "display_data"
    }
   ],
   "source": [
    "plt.plot(classifier.history['accuracy'],c=\"r\")\n",
    "plt.plot(classifier.history['val_accuracy'],c=\"b\")\n",
    "plt.show()"
   ]
  },
  {
   "cell_type": "markdown",
   "metadata": {},
   "source": [
    "### Predictions"
   ]
  },
  {
   "cell_type": "code",
   "execution_count": 120,
   "metadata": {},
   "outputs": [],
   "source": [
    "tokenizer2 = Tokenizer(num_words=vocab_size)\n",
    "tokenizer2.fit_on_texts(test.cleantext)\n",
    "seq2 = tokenizer2.texts_to_sequences(test.cleantext)\n",
    "test_data = pad_sequences(sequences=seq2)"
   ]
  },
  {
   "cell_type": "code",
   "execution_count": 122,
   "metadata": {},
   "outputs": [],
   "source": [
    "preds = model.predict(test_data)"
   ]
  },
  {
   "cell_type": "code",
   "execution_count": 124,
   "metadata": {},
   "outputs": [],
   "source": [
    "sample_submission.target = preds\n",
    "sample_submission.target = [0 if sample_submission.target[i] < 0.5 else 1 for i in range(len(sample_submission))]"
   ]
  },
  {
   "cell_type": "code",
   "execution_count": 126,
   "metadata": {},
   "outputs": [],
   "source": [
    "sample_submission.to_csv(\"gloveNN.csv\",index=False)"
   ]
  }
 ],
 "metadata": {
  "kernelspec": {
   "display_name": "Python 3",
   "language": "python",
   "name": "python3"
  },
  "language_info": {
   "codemirror_mode": {
    "name": "ipython",
    "version": 3
   },
   "file_extension": ".py",
   "mimetype": "text/x-python",
   "name": "python",
   "nbconvert_exporter": "python",
   "pygments_lexer": "ipython3",
   "version": "3.6.8"
  }
 },
 "nbformat": 4,
 "nbformat_minor": 4
}
